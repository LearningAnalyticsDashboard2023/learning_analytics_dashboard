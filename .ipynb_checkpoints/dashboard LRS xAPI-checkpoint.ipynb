{
 "cells": [
  {
   "cell_type": "code",
   "execution_count": 1,
   "id": "4eded417",
   "metadata": {},
   "outputs": [],
   "source": [
    "import pandas as pd\n",
    "import json\n",
    "import datetime"
   ]
  },
  {
   "cell_type": "markdown",
   "id": "91591199",
   "metadata": {},
   "source": [
    "# Hilfsfunktion für das Datum in den JSON Statements"
   ]
  },
  {
   "cell_type": "code",
   "execution_count": 2,
   "id": "7288a0d6",
   "metadata": {},
   "outputs": [],
   "source": [
    "# https://stackoverflow.com/questions/46906432/how-to-parse-datetime-that-ends-with-z\n",
    "def string_to_datetime(date_string):\n",
    "    date_format = '%Y-%m-%dT%H:%M:%S'\n",
    "    date = datetime.datetime.strptime(date_string.split('.')[0], date_format)\n",
    "    date = date + datetime.timedelta(microseconds = int(date_string.split('.')[1][:-1])/1000)\n",
    "    return date\n",
    "\n",
    "def datetime_to_string(date):\n",
    "    date_format = '%Y-%m-%dT%H:%M:%S'\n",
    "    date_string = date.strftime(date_format) + '.000Z'\n",
    "    return date_string"
   ]
  },
  {
   "cell_type": "markdown",
   "id": "db9e52d0",
   "metadata": {},
   "source": [
    "# JSON Datei lesen und verändern"
   ]
  },
  {
   "cell_type": "code",
   "execution_count": 3,
   "id": "632f0b82",
   "metadata": {},
   "outputs": [],
   "source": [
    "with open('moodle-dashboard.json') as file:\n",
    "    data = json.load(file)\n",
    "    \n",
    "updated_data = data\n",
    "    \n",
    "# jede Beantwortung einer der datensouveränen Fragen heraussuchen\n",
    "temp_data = []  \n",
    "i = 0\n",
    "\n",
    "while i < len(data):\n",
    "    if 'Auswahl der Ã¼bermittelten Daten'  in str(data[i]['context']['contextActivities']):\n",
    "        if 'answered' in str(data[i]['verb']['display']):\n",
    "            temp_data.append(data[i])\n",
    "    i += 1"
   ]
  },
  {
   "cell_type": "code",
   "execution_count": 4,
   "id": "0552ce5d",
   "metadata": {},
   "outputs": [
    {
     "data": {
      "text/html": [
       "<div>\n",
       "<style scoped>\n",
       "    .dataframe tbody tr th:only-of-type {\n",
       "        vertical-align: middle;\n",
       "    }\n",
       "\n",
       "    .dataframe tbody tr th {\n",
       "        vertical-align: top;\n",
       "    }\n",
       "\n",
       "    .dataframe thead th {\n",
       "        text-align: right;\n",
       "    }\n",
       "</style>\n",
       "<table border=\"1\" class=\"dataframe\">\n",
       "  <thead>\n",
       "    <tr style=\"text-align: right;\">\n",
       "      <th></th>\n",
       "      <th>Name</th>\n",
       "      <th>E-Mail</th>\n",
       "      <th>Frage</th>\n",
       "      <th>Antwort</th>\n",
       "      <th>Zeitpunkt</th>\n",
       "    </tr>\n",
       "  </thead>\n",
       "  <tbody>\n",
       "    <tr>\n",
       "      <th>0</th>\n",
       "      <td>Pandora Sykes</td>\n",
       "      <td>mailto:cursus.purus@icloud.ca</td>\n",
       "      <td>MÃ¶chtest du deinen vollen Namen Ã¼bermitteln?</td>\n",
       "      <td>Falsch</td>\n",
       "      <td>2023-09-14T08:35:52.000Z</td>\n",
       "    </tr>\n",
       "    <tr>\n",
       "      <th>1</th>\n",
       "      <td>Pandora Sykes</td>\n",
       "      <td>mailto:cursus.purus@icloud.ca</td>\n",
       "      <td>MÃ¶chtest du Ã¼bermitteln, in welcher Klasse d...</td>\n",
       "      <td>Falsch</td>\n",
       "      <td>2023-09-14T08:35:52.000Z</td>\n",
       "    </tr>\n",
       "    <tr>\n",
       "      <th>2</th>\n",
       "      <td>Pandora Sykes</td>\n",
       "      <td>mailto:cursus.purus@icloud.ca</td>\n",
       "      <td>MÃ¶chtest du Ã¼bermitteln, welche Aufgabe du e...</td>\n",
       "      <td>Wahr</td>\n",
       "      <td>2023-09-14T08:35:52.000Z</td>\n",
       "    </tr>\n",
       "    <tr>\n",
       "      <th>3</th>\n",
       "      <td>Pandora Sykes</td>\n",
       "      <td>mailto:cursus.purus@icloud.ca</td>\n",
       "      <td>MÃ¶chtest du die Zeit Ã¼bermitteln, zu der du ...</td>\n",
       "      <td>Wahr</td>\n",
       "      <td>2023-09-14T08:35:52.000Z</td>\n",
       "    </tr>\n",
       "    <tr>\n",
       "      <th>4</th>\n",
       "      <td>Pandora Sykes</td>\n",
       "      <td>mailto:cursus.purus@icloud.ca</td>\n",
       "      <td>MÃ¶chtest du Ã¼bermitteln, wann du die Aufgabe...</td>\n",
       "      <td>Falsch</td>\n",
       "      <td>2023-09-14T08:35:52.000Z</td>\n",
       "    </tr>\n",
       "    <tr>\n",
       "      <th>5</th>\n",
       "      <td>Pandora Sykes</td>\n",
       "      <td>mailto:cursus.purus@icloud.ca</td>\n",
       "      <td>MÃ¶chtest du Ã¼bermitteln, in welcheln FÃ¤cher...</td>\n",
       "      <td>Falsch</td>\n",
       "      <td>2023-09-14T08:35:52.000Z</td>\n",
       "    </tr>\n",
       "    <tr>\n",
       "      <th>6</th>\n",
       "      <td>Pandora Sykes</td>\n",
       "      <td>mailto:cursus.purus@icloud.ca</td>\n",
       "      <td>MÃ¶chtest du deine Punktzahl Ã¼bermitteln?</td>\n",
       "      <td>Falsch</td>\n",
       "      <td>2023-09-14T08:35:52.000Z</td>\n",
       "    </tr>\n",
       "  </tbody>\n",
       "</table>\n",
       "</div>"
      ],
      "text/plain": [
       "            Name                         E-Mail  \\\n",
       "0  Pandora Sykes  mailto:cursus.purus@icloud.ca   \n",
       "1  Pandora Sykes  mailto:cursus.purus@icloud.ca   \n",
       "2  Pandora Sykes  mailto:cursus.purus@icloud.ca   \n",
       "3  Pandora Sykes  mailto:cursus.purus@icloud.ca   \n",
       "4  Pandora Sykes  mailto:cursus.purus@icloud.ca   \n",
       "5  Pandora Sykes  mailto:cursus.purus@icloud.ca   \n",
       "6  Pandora Sykes  mailto:cursus.purus@icloud.ca   \n",
       "\n",
       "                                               Frage Antwort  \\\n",
       "0     MÃ¶chtest du deinen vollen Namen Ã¼bermitteln?  Falsch   \n",
       "1  MÃ¶chtest du Ã¼bermitteln, in welcher Klasse d...  Falsch   \n",
       "2  MÃ¶chtest du Ã¼bermitteln, welche Aufgabe du e...    Wahr   \n",
       "3  MÃ¶chtest du die Zeit Ã¼bermitteln, zu der du ...    Wahr   \n",
       "4  MÃ¶chtest du Ã¼bermitteln, wann du die Aufgabe...  Falsch   \n",
       "5  MÃ¶chtest du Ã¼bermitteln, in welcheln FÃ¤cher...  Falsch   \n",
       "6         MÃ¶chtest du deine Punktzahl Ã¼bermitteln?  Falsch   \n",
       "\n",
       "                  Zeitpunkt  \n",
       "0  2023-09-14T08:35:52.000Z  \n",
       "1  2023-09-14T08:35:52.000Z  \n",
       "2  2023-09-14T08:35:52.000Z  \n",
       "3  2023-09-14T08:35:52.000Z  \n",
       "4  2023-09-14T08:35:52.000Z  \n",
       "5  2023-09-14T08:35:52.000Z  \n",
       "6  2023-09-14T08:35:52.000Z  "
      ]
     },
     "execution_count": 4,
     "metadata": {},
     "output_type": "execute_result"
    }
   ],
   "source": [
    "# DataFrame mit allen wichtigen Informationen erstellen\n",
    "df_data = []\n",
    "\n",
    "i = 0\n",
    "while i < len(temp_data):\n",
    "    language = temp_data[i]['context']['language']\n",
    "    df_data.append([temp_data[i]['actor']['name'],\n",
    "                    temp_data[i]['actor']['mbox'],\n",
    "                    temp_data[i]['object']['definition']['name'][language], \n",
    "                    temp_data[i]['result']['response'],\n",
    "                    temp_data[i]['timestamp']\n",
    "                   ])\n",
    "    i += 1\n",
    "\n",
    "df = pd.DataFrame(df_data, columns = ['Name', 'E-Mail', 'Frage', 'Antwort', 'Zeitpunkt'])\n",
    "\n",
    "name_list = df['Name'].unique().tolist()\n",
    "question_list = df['Frage'].unique().tolist()\n",
    "df"
   ]
  },
  {
   "cell_type": "code",
   "execution_count": 5,
   "id": "42e81f31",
   "metadata": {},
   "outputs": [],
   "source": [
    "# not necessary: information can be used without private information\n",
    "def delete_statement(statement_ids):\n",
    "    new_statements = []\n",
    "    i = 0\n",
    "    while i < len(updated_data):\n",
    "        for statement_id in statement_ids:\n",
    "            if updated_data[i]['id'] != statement_id:\n",
    "                new_statements.append(updated_data[i])\n",
    "        i += 1\n",
    "    return new_statements"
   ]
  },
  {
   "cell_type": "code",
   "execution_count": 6,
   "id": "1b398c23",
   "metadata": {},
   "outputs": [],
   "source": [
    "# was muss potentiell gelöscht werden: \n",
    "# actor->name, \n",
    "# actor->mbox, \n",
    "# timestamp,\n",
    "# result->completion, \n",
    "# result->success, \n",
    "# context->contextActivities->grouping[1] KLASSE\n",
    "# context->contextActivities->grouping[2] QUIZ"
   ]
  },
  {
   "cell_type": "code",
   "execution_count": 7,
   "id": "0c499a18",
   "metadata": {},
   "outputs": [],
   "source": [
    "def get_statement_ids(time, name):\n",
    "    i = 0\n",
    "    statement_ids = []\n",
    "    while i < len(updated_data):\n",
    "        \n",
    "        # catch exception error if deleted\n",
    "        # https://stackoverflow.com/questions/15653966/ignore-keyerror-and-continue-program\n",
    "        try:\n",
    "            if (updated_data[i]['timestamp'] > time) & (updated_data[i]['actor']['name'] == name):\n",
    "                statement_ids.append(updated_data[i]['id'])       \n",
    "        except KeyError as e:\n",
    "            statement_ids = statement_ids\n",
    "        i += 1\n",
    "    return statement_ids"
   ]
  },
  {
   "cell_type": "code",
   "execution_count": 8,
   "id": "11e550b2",
   "metadata": {},
   "outputs": [],
   "source": [
    "# in einfacheren Worten erklären, welcher Wert gelöscht werden muss\n",
    "def get_value_to_be_deleted(question):\n",
    "    if question == question_list[0]:\n",
    "        return 'Name'\n",
    "    elif question == question_list[1]:\n",
    "        return 'Klasse'\n",
    "    elif question == question_list[2]:\n",
    "        return 'Aufgabe'\n",
    "    elif (question == question_list[3]) or (question == question_list[4]):\n",
    "        return 'Zeitpunkt'\n",
    "    elif question == question_list[5]:\n",
    "        return 'Fach'      \n",
    "    else:\n",
    "        return 'Punktzahl'"
   ]
  },
  {
   "cell_type": "code",
   "execution_count": null,
   "id": "1f3b2005",
   "metadata": {},
   "outputs": [],
   "source": [
    "# für eine bessere Vorstellung wird der Wert nur zu 'deleted' umgeändert\n",
    "# diese Funktion mit der nächsten austauschen, um die Werte tatsächlich zu löschen\n",
    "def delete_data(statement, value):\n",
    "    language = statement[context]['language']\n",
    "    if value == 'Name':\n",
    "        statement['actor']['name'] = 'deleted'\n",
    "        statement['actor']['mbox'] = 'deleted'\n",
    "    elif value == 'Klasse':\n",
    "        statement['context']['contextActivities']['grouping'][1]['definition']['name'][language] = 'deleted'\n",
    "        statement['context']['extensions']['http://xapi.jisc.ac.uk/courseArea']['http://xapi.jisc.ac.uk/vle_mod_id'] = 'deleted'\n",
    "        statement['context']['contextActivities']['grouping'][1]['definition']['extensions']['https://w3id.org/learning-analytics/learning-management-system/short-id'] = 'deleted'\n",
    "    elif value == 'Aufgabe':\n",
    "        statement['object']['definition']['name'][language] = 'deleted'\n",
    "    elif value == 'Zeitpunkt':\n",
    "        statement['timestamp'] = 'deleted'\n",
    "        statement['stored'] = 'deleted'\n",
    "    elif value == 'Punktzahl':\n",
    "        statement['result']['success'] = 'deleted'\n",
    "    else:\n",
    "        continue\n",
    "        \n",
    "'''def delete_data(statement, value):\n",
    "    language = statement[context]['language']\n",
    "    if value == 'Name':\n",
    "        del updated_data[i]['actor']['name']\n",
    "        del updated_data[i]['actor']['mbox']\n",
    "    elif value == 'Klasse':\n",
    "        del statement['context']['contextActivities']['grouping'][1]['definition']['name'][language]\n",
    "        del statement['context']['extensions']['http://xapi.jisc.ac.uk/courseArea']['http://xapi.jisc.ac.uk/vle_mod_id']\n",
    "        del statement['context']['contextActivities']['grouping'][1]['definition']['extensions']['https://w3id.org/learning-analytics/learning-management-system/short-id']\n",
    "    elif value == 'Aufgabe':\n",
    "        del statement['object']['definition']['name'][language]\n",
    "    elif value == 'Zeitpunkt':\n",
    "        del statement['timestamp']\n",
    "        del statement['stored']'\n",
    "    elif value == 'Punktzahl':\n",
    "        del statement['result']['success']\n",
    "    else:\n",
    "        continue'''"
   ]
  },
  {
   "cell_type": "code",
   "execution_count": 12,
   "id": "0686623c",
   "metadata": {},
   "outputs": [],
   "source": [
    "def delete_statement_data(statement_ids, question, start_time, end_time):\n",
    "    for statement_id in statement_ids:\n",
    "        i = 0\n",
    "        while i < len(updated_data):\n",
    "            if ((statement_id == updated_data[i]['id']) & (updated_data[i]['timestamp'] > start_time)):\n",
    "                \n",
    "                # \"no\" end time == current answer\n",
    "                if end_time == 0:\n",
    "                    value = get_value_to_be_deleted(question)\n",
    "                    delete_data(updated_data[i], value)\n",
    "                    print(statement_id)\n",
    "                else:\n",
    "                    value = get_value_to_be_deleted(question)\n",
    "                    delete_data(updated_data[i], value)\n",
    "                    print(statement_id)\n",
    "            i += 1"
   ]
  },
  {
   "cell_type": "code",
   "execution_count": 10,
   "id": "2257f83f",
   "metadata": {
    "scrolled": false
   },
   "outputs": [
    {
     "name": "stdout",
     "output_type": "stream",
     "text": [
      "1621b359-d8c5-4ec7-89b4-f93c1cd72c08\n",
      "c691c03d-fd42-401f-89a9-4aa8d9128381\n",
      "1de5260b-7479-42cd-b487-06d1944d8582\n",
      "6d40630d-feb4-4ed6-8899-ba6c93d61859\n",
      "8fde4126-6a45-4af0-9d3c-beb95f345e55\n",
      "432e06ed-a437-40db-ac5b-15869f3074fd\n",
      "896d3e30-fb13-4f51-835a-7c46d123b6e2\n",
      "3501a6cb-00ed-4b66-8478-5d5d5ca30f68\n",
      "7b1c923c-2964-4bbb-9874-d6888b1dd02d\n",
      "5114399c-1dfb-44bf-a462-74e09647d4b4\n",
      "2c5aaa51-c674-40a6-9cf0-fd9c1ef3b198\n",
      "098aeddf-faee-42b7-978e-4136d12859e3\n",
      "a6fd487b-66db-4c54-a78e-143d32830dd9\n",
      "709a0545-7922-46ea-9ff7-13d8c522e00d\n",
      "f69dda91-5674-4dec-94f3-5a987f7a9b54\n",
      "da78580b-c262-4c7c-87f6-fc7eea5a98aa\n",
      "2a0b3d21-6f69-4704-b3a6-9accb81c05f6\n",
      "c8d66936-d2a1-44f1-9857-2bc04dbe3f41\n",
      "5f84a1f1-7c3b-4af9-b2c8-8cab37351be1\n",
      "dab2d540-c7a0-4d61-9aa8-76622467d392\n",
      "e2a0e1cd-b1db-4468-bbf1-4296e4c839ec\n"
     ]
    }
   ],
   "source": [
    "for name in name_list:\n",
    "    i = 0\n",
    "    for question in question_list:\n",
    "        times = df['Zeitpunkt'].unique().tolist()\n",
    "        if len(times) == 1:\n",
    "            if df.at[i, 'Antwort'] == 'Falsch':\n",
    "                statement_ids = get_statement_ids(times[0], name)\n",
    "                delete_statement_data(statement_ids, question, times[0], 0)\n",
    "            i += 1\n",
    "            \n",
    "        else:\n",
    "            t = 0\n",
    "            while (t < len(times)-1):\n",
    "                for time in times:\n",
    "                    if df.at[i, 'Antwort'] == 'Falsch':\n",
    "                        statement_ids = get_statement_ids(times[t], name)\n",
    "                        delete_statement_data(statement_ids, question, times[t], times[t+1])\n",
    "                    t += 1\n",
    "            for time in times:\n",
    "                if df.at[i, 'Antwort'] == 'Falsch':\n",
    "                    statement_ids = get_statement_ids(times[t], name)\n",
    "                    delete_statement_data(statement_ids, question, times[t], 0)\n",
    "                i += 1"
   ]
  },
  {
   "cell_type": "markdown",
   "id": "616b0003",
   "metadata": {},
   "source": [
    "# Statements in neue Datei schreiben"
   ]
  },
  {
   "cell_type": "code",
   "execution_count": 11,
   "id": "a3b729d9",
   "metadata": {},
   "outputs": [
    {
     "ename": "NameError",
     "evalue": "name 'json_object' is not defined",
     "output_type": "error",
     "traceback": [
      "\u001b[1;31m---------------------------------------------------------------------------\u001b[0m",
      "\u001b[1;31mNameError\u001b[0m                                 Traceback (most recent call last)",
      "Cell \u001b[1;32mIn[11], line 1\u001b[0m\n\u001b[1;32m----> 1\u001b[0m \u001b[43mjson_object\u001b[49m\n",
      "\u001b[1;31mNameError\u001b[0m: name 'json_object' is not defined"
     ]
    }
   ],
   "source": [
    "json_object"
   ]
  },
  {
   "cell_type": "code",
   "execution_count": null,
   "id": "c2e67c9a",
   "metadata": {},
   "outputs": [],
   "source": [
    "with open('new_statements.json', 'w') as new_file:\n",
    "    json.dump(updated_data, new_file)"
   ]
  },
  {
   "cell_type": "code",
   "execution_count": null,
   "id": "a64b5250",
   "metadata": {},
   "outputs": [],
   "source": []
  }
 ],
 "metadata": {
  "kernelspec": {
   "display_name": "Python 3 (ipykernel)",
   "language": "python",
   "name": "python3"
  },
  "language_info": {
   "codemirror_mode": {
    "name": "ipython",
    "version": 3
   },
   "file_extension": ".py",
   "mimetype": "text/x-python",
   "name": "python",
   "nbconvert_exporter": "python",
   "pygments_lexer": "ipython3",
   "version": "3.9.17"
  }
 },
 "nbformat": 4,
 "nbformat_minor": 5
}
