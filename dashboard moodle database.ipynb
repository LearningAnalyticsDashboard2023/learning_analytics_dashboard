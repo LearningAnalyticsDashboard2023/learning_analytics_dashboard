{
 "cells": [
  {
   "cell_type": "code",
   "execution_count": null,
   "id": "1ddcfa50",
   "metadata": {},
   "outputs": [],
   "source": [
    "#import necessary libraries\n",
    "import pandas as pd\n",
    "import numpy as np\n",
    "import panel as pn\n",
    "import hvplot.xarray\n",
    "import hvplot.pandas\n",
    "import datetime as dt\n",
    "from datetime import datetime\n",
    "import matplotlib.pyplot as plt\n",
    "import seaborn as sns\n",
    "from itertools import cycle\n",
    "import mysql.connector\n",
    "from csv import QUOTE_NONNUMERIC, QUOTE_NONE\n",
    "import dataframe_image as df_image\n",
    "from holoviews import opts\n",
    "\n",
    "pn.extension('tabulator')\n",
    "pn.extension()\n",
    "from sqlalchemy import create_engine"
   ]
  },
  {
   "cell_type": "markdown",
   "id": "296b4000",
   "metadata": {},
   "source": [
    "<div class=\"alert alert-block alert-danger\">\n",
    "<b>Bis Zelle 9 überspringen und ab da den Code ausführen, wenn keine Verbindung zur MariaDB besteht.</b>\n",
    "</div>"
   ]
  },
  {
   "cell_type": "markdown",
   "id": "eae471f2",
   "metadata": {},
   "source": [
    "## Datensätze aus der MySQL (MariaDB) Datenbank auslesen"
   ]
  },
  {
   "cell_type": "markdown",
   "id": "bb483545",
   "metadata": {},
   "source": [
    "<div class=\"alert alert-block alert-info\">\n",
    "<b>Hilfsfunktion</b>\n",
    "</div>"
   ]
  },
  {
   "cell_type": "code",
   "execution_count": null,
   "id": "e104fb16",
   "metadata": {},
   "outputs": [],
   "source": [
    "def get_dataframe(table_name):\n",
    "    con = mysql.connector.connect(host=\"localhost\", database='moodle', user=\"root\", passwd=\"\",use_pure=True)\n",
    "\n",
    "    cursor = con.cursor()\n",
    "    query = \"SELECT * FROM \" + table_name\n",
    "    cursor.execute(query)\n",
    "\n",
    "    df = pd.DataFrame(cursor.fetchall())\n",
    "    df.columns = cursor.column_names\n",
    "\n",
    "    cursor.close()\n",
    "    con.close()\n",
    "    \n",
    "    return df"
   ]
  },
  {
   "cell_type": "markdown",
   "id": "17793698",
   "metadata": {},
   "source": [
    "<div class=\"alert alert-block alert-info\">\n",
    "<b>Datensätze aus der Datenbank</b>\n",
    "</div>"
   ]
  },
  {
   "cell_type": "code",
   "execution_count": null,
   "id": "1c92b68a",
   "metadata": {},
   "outputs": [],
   "source": [
    "user = get_dataframe('mdl_user')\n",
    "quiz = get_dataframe('mdl_quiz')\n",
    "quiz_attempts = get_dataframe('mdl_quiz_attempts')\n",
    "quiz_slots = get_dataframe('mdl_quiz_slots')\n",
    "quiz_grades = get_dataframe('mdl_quiz_grades')\n",
    "quiz_feedback = get_dataframe('mdl_quiz_feedback')\n",
    "question = get_dataframe('mdl_question')\n",
    "question_attempts = get_dataframe('mdl_question_attempts')\n",
    "question_usages = get_dataframe('mdl_question_usages')\n",
    "course = get_dataframe('mdl_course')\n",
    "course_modules = get_dataframe('mdl_course_modules')\n",
    "course_completion = get_dataframe('mdl_course_completions')\n",
    "user_enrolments = get_dataframe('mdl_user_enrolments')\n",
    "enrol = get_dataframe('mdl_enrol')\n",
    "course_sections = get_dataframe('mdl_course_sections')"
   ]
  },
  {
   "cell_type": "markdown",
   "id": "3158c7a8",
   "metadata": {},
   "source": [
    "## Eigenen Datensatz für das Dashboard aufbauen"
   ]
  },
  {
   "cell_type": "markdown",
   "id": "a1196a79",
   "metadata": {},
   "source": [
    "<div class=\"alert alert-block alert-info\">\n",
    "<b>Notwendige Daten aus Datenbank filtern</b>\n",
    "</div>"
   ]
  },
  {
   "cell_type": "code",
   "execution_count": null,
   "id": "960d9fe5",
   "metadata": {},
   "outputs": [],
   "source": [
    "user_data = {'Name': user['firstname'] + ' ' + user['lastname'],\n",
    "                      'SuS ID': user['id']\n",
    "                     }\n",
    "\n",
    "quiz_data = {'Aufgabe': quiz['name'],\n",
    "             'Quiz ID': quiz['id'],\n",
    "             'Maximale Punktzahl': quiz['sumgrades'],\n",
    "             'Maximale Note in %': quiz['grade']\n",
    "            }\n",
    "\n",
    "quiz_attempts_data = {'SuS ID': quiz_attempts['userid'],\n",
    "                      'Quiz ID': quiz_attempts['quiz'],\n",
    "                      'Fragennutzung ID': quiz_attempts['uniqueid'],\n",
    "                      'Quiz Startzeit': quiz_attempts['timestart'],\n",
    "                      'Quiz Abgabezeit': quiz_attempts['timefinish'],\n",
    "                      'Punktzahl': quiz_attempts['sumgrades'],\n",
    "                      'Anzahl Versuche': quiz_attempts['attempt']\n",
    "                     }\n",
    "\n",
    "quiz_grade_data = {'Beste Punktzahl in %': quiz_grades['grade'],\n",
    "                   'SuS ID': quiz_grades['userid'],\n",
    "                   'Quiz ID': quiz_grades['quiz']\n",
    "                  }\n",
    "\n",
    "user_enrolments_data = {'Anmelde ID': user_enrolments['enrolid'],\n",
    "                        'SuS ID': user_enrolments['userid']\n",
    "                       }\n",
    "\n",
    "enrol_data = {'Anmelde ID': enrol['id'],\n",
    "              'Klassen ID': enrol['courseid']\n",
    "             }\n",
    "\n",
    "course_data = {'Klasse': course['fullname'],\n",
    "               'Klassen ID': course['id']\n",
    "              }\n",
    "\n",
    "course_sections_data = {'Klassen ID': course_sections['course'],\n",
    "                        'Fach': course_sections['name']\n",
    "                       }\n",
    "\n",
    "question_attempts_data = {'Frage Versuch ID': question_attempts['id'],\n",
    "                          'Fragennutzung ID': question_attempts['questionusageid'],\n",
    "                          'Slot': question_attempts['slot'],\n",
    "                          'Frage ID': question_attempts['questionid'],\n",
    "                          'Frage Text': question_attempts['questionsummary'],\n",
    "                          'Antwort': question_attempts['responsesummary']\n",
    "                         }\n",
    "\n",
    "question_data = {'Frage ID': question['id'],\n",
    "                 'Frage Name': question['name']\n",
    "                }"
   ]
  },
  {
   "cell_type": "markdown",
   "id": "01a3297d",
   "metadata": {},
   "source": [
    "<div class=\"alert alert-block alert-info\">\n",
    "<b>Notwendige Daten zusammenfügen für einen großen Datensatzn</b>\n",
    "</div>"
   ]
  },
  {
   "cell_type": "code",
   "execution_count": null,
   "id": "98983bdd",
   "metadata": {
    "scrolled": true
   },
   "outputs": [],
   "source": [
    "df_user = pd.DataFrame(user_data)\n",
    "\n",
    "df_quiz_attempts = pd.DataFrame(quiz_attempts_data)\n",
    "df_quiz_attempts['Quiz Startzeit'] = pd.to_datetime(df_quiz_attempts['Quiz Startzeit'], unit = 's')\n",
    "df_quiz_attempts['Quiz Abgabezeit'] = pd.to_datetime(df_quiz_attempts['Quiz Abgabezeit'], unit = 's')\n",
    "df_quiz_attempts['Quiz Bearbeitungsdauer'] = df_quiz_attempts['Quiz Abgabezeit'] - df_quiz_attempts['Quiz Startzeit']\n",
    "\n",
    "df_quiz_grade = pd.DataFrame(quiz_grade_data)\n",
    "\n",
    "#df_course_modules = pd.DataFrame(course_modules_data)\n",
    "\n",
    "df_course = pd.DataFrame(course_data)\n",
    "\n",
    "df_user_enrolments = pd.DataFrame(user_enrolments_data)\n",
    "\n",
    "df_enrol = pd.DataFrame(enrol_data)\n",
    "\n",
    "df_course_sections = pd.DataFrame(course_sections_data)\n",
    "\n",
    "df_quiz = pd.DataFrame(quiz_data)\n",
    "\n",
    "df = pd.merge(df_user, df_quiz_attempts, on = 'SuS ID', how = 'left')\n",
    "df = pd.merge(df, df_quiz_grade, on = ['SuS ID', 'Quiz ID'], how = 'left')\n",
    "df = pd.merge(df, df_user_enrolments, on = 'SuS ID', how = 'left')\n",
    "df = pd.merge(df, df_enrol, on = 'Anmelde ID', how = 'left')\n",
    "df = pd.merge(df, df_course, on = 'Klassen ID', how = 'left')\n",
    "df = pd.merge(df, df_course_sections, on = 'Klassen ID', how = 'left')\n",
    "df = pd.merge(df, df_quiz, on = 'Quiz ID', how = 'left')\n",
    "df['Beste Punktzahl in %'] = df['Beste Punktzahl in %']*10\n",
    "df['Maximale Note in %'] = df['Maximale Note in %']*10\n",
    "df = df.drop([0,1,2,3,4,5,6,7])\n",
    "df['Alle Fächer'] = 'Alle Fächer'\n",
    "df = df.drop_duplicates()"
   ]
  },
  {
   "cell_type": "markdown",
   "id": "094a2c3c",
   "metadata": {},
   "source": [
    "# Ab hier kann der Code weiter ausgeführt werden, falls der Datensatz aus der csv-Datei ausgelesen wurde\n"
   ]
  },
  {
   "cell_type": "markdown",
   "id": "1bf37411",
   "metadata": {},
   "source": [
    "<div class=\"alert alert-block alert-info\">\n",
    "<b>Wichtige Listen</b>\n",
    "</div>"
   ]
  },
  {
   "cell_type": "code",
   "execution_count": null,
   "id": "e602e9e2",
   "metadata": {},
   "outputs": [],
   "source": [
    "subject_list = course_sections['name'].unique().tolist()\n",
    "subject_list.remove(None)\n",
    "subject_list.remove('Organisation')\n",
    "class_list = df['Klasse'].unique().tolist()\n",
    "exercise_list = quiz['name'].unique().tolist()\n",
    "exercise_list.remove('Auswahl der übermittelten Daten')\n",
    "name_list = df['Name'].unique().tolist()\n",
    "name_list.sort()\n",
    "class_list.sort()\n",
    "\n",
    "# add general overview over all exercises\n",
    "default_exercise = ['Allgemein']\n",
    "df[default_exercise] = default_exercise\n",
    "\n",
    "class_list_with_none = ['Keine Auswahl'] + class_list\n",
    "name_list_with_none = ['Keine Auswahl'] + name_list\n",
    "subject_list_with_all = ['Alle Fächer'] + subject_list\n",
    "\n",
    "df['Einwilligung abgegeben'] = np.where(df['Aufgabe'] == 'Auswahl der übermittelten Daten', 'Ja', 'Nein')\n",
    "consent_list = df.loc[df['Einwilligung abgegeben'] == 'Ja', 'Name']\n",
    "df['Einwilligung abgegeben'] = np.where(df['Name'].isin(consent_list), 'Ja', 'Nein')"
   ]
  },
  {
   "cell_type": "markdown",
   "id": "1def76d9",
   "metadata": {},
   "source": [
    "# Datensouveränität"
   ]
  },
  {
   "cell_type": "markdown",
   "id": "fcefef15",
   "metadata": {},
   "source": [
    "<div class=\"alert alert-block alert-info\">\n",
    "<b>Erstellung des benötigten Datensatzes und Herauslesen der zu löschenden Daten</b>\n",
    "</div>"
   ]
  },
  {
   "cell_type": "code",
   "execution_count": null,
   "id": "815efcb4",
   "metadata": {},
   "outputs": [],
   "source": [
    "df_answers = pd.DataFrame(question_attempts_data)\n",
    "df_answers_names = pd.DataFrame(question_data)\n",
    "df_souv = df[df['Aufgabe'] == 'Auswahl der übermittelten Daten']\n",
    "\n",
    "df_souv = pd.merge(df_souv, df_answers, on = 'Fragennutzung ID', how = 'left')\n",
    "df_souv = pd.merge(df_souv, df_answers_names, on = 'Frage ID', how = 'left')\n",
    "student_ids = df_souv['SuS ID'].unique().tolist()\n",
    "df_souv = df_souv[df_souv.Fach != 'Mathematik']\n",
    "df_souv = df_souv.reset_index()\n",
    "df_souv = df_souv.drop_duplicates()"
   ]
  },
  {
   "cell_type": "markdown",
   "id": "a92c1256",
   "metadata": {},
   "source": [
    "<div class=\"alert alert-block alert-danger\">\n",
    "<b>Ab hier die Zellen ausführen, wenn keine Verbindung zur MariaDB besteht.</b>\n",
    "</div>"
   ]
  },
  {
   "cell_type": "code",
   "execution_count": null,
   "id": "a7fa4790",
   "metadata": {},
   "outputs": [],
   "source": [
    "df = pd.read_csv('moodle_dataset.csv')\n",
    "df['Quiz Startzeit'] = pd.to_datetime(df['Quiz Startzeit'], format=\"%Y-%m-%d %H:%M:%S\")\n",
    "df['Quiz Abgabezeit'] = pd.to_datetime(df['Quiz Abgabezeit'], format=\"%Y-%m-%d %H:%M:%S\")\n",
    "df['Quiz Bearbeitungsdauer'] = df['Quiz Abgabezeit'] - df['Quiz Startzeit']\n",
    "df['Einwilligung abgegeben'] = np.where(df['Aufgabe'] == 'Auswahl der übermittelten Daten', 'Ja', 'Nein')\n",
    "consent_list = df.loc[df['Einwilligung abgegeben'] == 'Ja', 'Name']\n",
    "df['Einwilligung abgegeben'] = np.where(df['Name'].isin(consent_list), 'Ja', 'Nein')\n",
    "\n",
    "subject_list = df['Fach'].unique().tolist()\n",
    "\n",
    "df_souv = pd.read_csv('df_souv.csv')\n",
    "df_souv['Quiz Startzeit'] = pd.to_datetime(df_souv['Quiz Startzeit'], format=\"%Y-%m-%d %H:%M:%S\")\n",
    "df_souv['Quiz Abgabezeit'] = pd.to_datetime(df_souv['Quiz Abgabezeit'], format=\"%Y-%m-%d %H:%M:%S\")\n",
    "df_souv['Quiz Bearbeitungsdauer'] = df_souv['Quiz Abgabezeit'] - df['Quiz Startzeit']\n",
    "student_ids = df_souv['SuS ID'].unique().tolist()"
   ]
  },
  {
   "cell_type": "markdown",
   "id": "e91fa425",
   "metadata": {},
   "source": [
    "<div class=\"alert alert-block alert-info\">\n",
    "<b>Hilfsfunktion zum Löschen von Daten</b>\n",
    "</div>"
   ]
  },
  {
   "cell_type": "code",
   "execution_count": null,
   "id": "1c215b7b",
   "metadata": {},
   "outputs": [],
   "source": [
    "# student_id: student\n",
    "# start_time: start of period in which data needs to be deleted\n",
    "# end_time: end of period that needs to be deleted\n",
    "# question: column in which data needs to be deleted (will be replaced with NaN)\n",
    "# index_list: row index in which data needs to be deleted (will be replaced with NaN)\n",
    "\n",
    "def delete_data(student_id, start_time, end_time, question, index_list):\n",
    "    # no end of period\n",
    "    if end_time == 0:\n",
    "        for index in index_list:\n",
    "            if ((df.at[index,'Quiz Abgabezeit'] >= start_time) or pd.isna(df.at[index,'Quiz Abgabezeit'])):\n",
    "                df.at[index, question] = np.NaN\n",
    "                \n",
    "                # also delete marks in percent\n",
    "                if question == 'Punktzahl':\n",
    "                    df.at[index, 'Beste Punktzahl in %'] = np.NaN\n",
    "                    df.at[index, 'Maximale Punktzahl'] = np.NaN\n",
    "                    df.at[index, 'Maximale Note in %'] = np.NaN\n",
    "                \n",
    "                if (question == 'Quiz Startzeit') or (question == 'Quiz Abgabezeit'):\n",
    "                    df.at[index, 'Quiz Bearbeitungsdauer'] = np.NaN\n",
    "    \n",
    "    # end of period of time exists thus only delete necessary data in this period of time\n",
    "    else:\n",
    "        for index in index_list:\n",
    "            if ((df.at[index,'Quiz Abgabezeit'] >= start_time and df.at[index,'Quiz Abgabezeit'] <= end_time) or pd.isna(df.at[index,'Quiz Abgabezeit'])):\n",
    "                df.at[index, question] = np.NaN\n",
    "                \n",
    "                if question == 'Punktzahl':\n",
    "                    df.at[index, 'Beste Punktzahl in %'] = np.NaN"
   ]
  },
  {
   "cell_type": "code",
   "execution_count": null,
   "id": "f5527bc1",
   "metadata": {},
   "outputs": [],
   "source": [
    "for student_id in student_ids:\n",
    "    times = df_souv['Quiz Startzeit'].unique().tolist()\n",
    "    question_list = df_souv['Frage Name'].unique().tolist()\n",
    "    index_list = df.index[df['SuS ID'] == student_id].tolist()\n",
    "\n",
    "    if len(times) >= 1:\n",
    "        t = 0\n",
    "        for time in times:\n",
    "            for question in question_list:\n",
    "                if(t == len(times)-1):\n",
    "                    break\n",
    "                    \n",
    "                i = 0\n",
    "                while i < len(question_list):\n",
    "                    if df_souv.at[i, 'Frage Name'] == question and df_souv.at[i, 'Antwort'] == 'Falsch':\n",
    "                        delete_data(student_id, time, times[t+1], question, index_list)\n",
    "                    i += 1\n",
    "            t += 1\n",
    "        \n",
    "        for question in question_list:\n",
    "            \n",
    "            i = (len(times)-1)*len(question_list)\n",
    "            while i < len(question_list)*(len(times)):\n",
    "                if df_souv.at[i, 'Frage Name'] == question and df_souv.at[i, 'Antwort'] == 'Falsch':\n",
    "                    delete_data(student_id, times[-1], 0, question, index_list)\n",
    "                i += 1\n",
    "                \n",
    "    else:\n",
    "        for time in times:\n",
    "            for question in question_list:\n",
    "                i = 0\n",
    "                while i < len(question_list)*len(times):\n",
    "                    if df_souv.at[i, 'Frage Name'] == question and df_souv.at[i, 'Antwort'] == 'Falsch':\n",
    "                        delete_data(student_id, time, 0, question, index_list)\n",
    "                    i += 1"
   ]
  },
  {
   "cell_type": "markdown",
   "id": "ecbcb55a",
   "metadata": {},
   "source": [
    "# Datensatz mit generierten Daten anreichern"
   ]
  },
  {
   "cell_type": "code",
   "execution_count": null,
   "id": "3d06b6e2",
   "metadata": {},
   "outputs": [],
   "source": [
    "gen_data = pd.read_csv('extension_for_moodle_data.csv', quoting = QUOTE_NONE)"
   ]
  },
  {
   "cell_type": "code",
   "execution_count": null,
   "id": "9515a674",
   "metadata": {},
   "outputs": [],
   "source": [
    "gen_data['Quiz Startzeit'] = pd.to_datetime(gen_data['Quiz Startzeit'], format=\"%Y-%m-%d %H:%M:%S\")\n",
    "gen_data['Quiz Abgabezeit'] = pd.to_datetime(gen_data['Quiz Abgabezeit'], format=\"%Y-%m-%d %H:%M:%S\")\n",
    "gen_data['Quiz Bearbeitungsdauer'] = gen_data['Quiz Abgabezeit'] - gen_data['Quiz Startzeit']"
   ]
  },
  {
   "cell_type": "code",
   "execution_count": null,
   "id": "90f19e21",
   "metadata": {},
   "outputs": [],
   "source": [
    "df = pd.concat([df, gen_data], ignore_index = True)"
   ]
  },
  {
   "cell_type": "code",
   "execution_count": null,
   "id": "abc0047e",
   "metadata": {},
   "outputs": [],
   "source": [
    "# get good data types\n",
    "df['Punktzahl'] = df['Punktzahl'].apply(float)\n",
    "df['Quiz ID'] = df['Quiz ID'].fillna(0).apply(int)"
   ]
  },
  {
   "cell_type": "markdown",
   "id": "854e86c0",
   "metadata": {},
   "source": [
    "<div class=\"alert alert-block alert-info\">\n",
    "<b>Listen neu anlegen</b>\n",
    "</div>"
   ]
  },
  {
   "cell_type": "code",
   "execution_count": null,
   "id": "3f0cab33",
   "metadata": {
    "scrolled": false
   },
   "outputs": [],
   "source": [
    "subject_list = df['Fach'].unique().tolist()\n",
    "subject_list.remove('Organisation')\n",
    "\n",
    "class_list = df['Klasse'].unique().tolist()\n",
    "\n",
    "exercise_list = df['Aufgabe'].unique().tolist()\n",
    "exercise_list.remove('Auswahl der übermittelten Daten')\n",
    "\n",
    "name_list = df['Name'].unique().tolist()\n",
    "\n",
    "name_list = [n for n in name_list if str(n) != 'nan']\n",
    "class_list = [c for c in class_list if str(c) != 'nan']\n",
    "subject_list.remove(np.nan)\n",
    "exercise_list.remove(np.nan)\n",
    "\n",
    "name_list.sort()\n",
    "class_list.sort()\n",
    "\n",
    "# add general overview over all exercises\n",
    "default_exercise = ['Allgemein']\n",
    "df[default_exercise] = default_exercise\n",
    "\n",
    "class_list_with_none = ['Keine Auswahl'] + class_list\n",
    "name_list_with_none = ['Keine Auswahl'] + name_list\n",
    "subject_list_with_all = ['Alle Fächer'] + subject_list"
   ]
  },
  {
   "cell_type": "markdown",
   "id": "507c20a4",
   "metadata": {},
   "source": [
    "# Funktionalitäten"
   ]
  },
  {
   "cell_type": "markdown",
   "id": "3d09ce7c",
   "metadata": {},
   "source": [
    "<div class=\"alert alert-block alert-info\">\n",
    "<b>Buttons und Menüs</b>\n",
    "</div>"
   ]
  },
  {
   "cell_type": "code",
   "execution_count": null,
   "id": "8ef96f0e",
   "metadata": {},
   "outputs": [],
   "source": [
    "exercise_button = pn.widgets.RadioButtonGroup(\n",
    "    name='exercise_button', options = default_exercise + exercise_list, button_type='success', orientation = 'vertical')\n",
    "\n",
    "subject_button = pn.widgets.RadioButtonGroup(\n",
    "    name='Fach auswählen', options = subject_list_with_all, button_type='success')\n",
    "\n",
    "class_selection = pn.widgets.Select(name='Klasse auswählen', options = class_list_with_none)\n",
    "student_selection = pn.widgets.Select(name='Schüler*in auswählen', options = name_list_with_none)\n",
    "\n",
    "start_date_picker = pn.widgets.DatetimePicker(name='Startdatum auswählen', value=dt.datetime(2023, 1, 1, 0, 0))\n",
    "end_date_picker = pn.widgets.DatetimePicker(name='Enddatum auswählen', value=dt.datetime(2023, 12, 31, 0, 0))"
   ]
  },
  {
   "cell_type": "markdown",
   "id": "d2aead5d",
   "metadata": {},
   "source": [
    "# Graphen"
   ]
  },
  {
   "cell_type": "markdown",
   "id": "e795ab8e",
   "metadata": {},
   "source": [
    "<div class=\"alert alert-block alert-info\">\n",
    "<b>Wichtige Spalten hinzufügen</b>\n",
    "</div>"
   ]
  },
  {
   "cell_type": "code",
   "execution_count": null,
   "id": "4e1651c4",
   "metadata": {},
   "outputs": [],
   "source": [
    "df['Anzahl'] = df.groupby(['Punktzahl'])['Klasse'].transform('count')\n",
    "df['Durchschnitt Punktzahl'] = df.groupby(['Aufgabe'])['Punktzahl'].transform('mean')\n",
    "df['Median Punktzahl'] = df.groupby(['Aufgabe'])['Punktzahl'].transform('median')\n",
    "df['Durchschnitt Fehlversuche'] = df.groupby(['Aufgabe'])['Anzahl Versuche'].transform('mean')\n",
    "df['Median Fehlversuche'] = df.groupby(['Aufgabe'])['Anzahl Versuche'].transform('median')\n",
    "\n",
    "df['Median Bearbeitungsdauer'] = df.groupby(['Aufgabe', 'Name', 'Fach'])['Quiz Bearbeitungsdauer'].transform('median')\n",
    "df['Median Bearbeitungsdauer'] = df['Median Bearbeitungsdauer'].apply(\n",
    "    lambda x: f'{x.components.hours:02d}:{x.components.minutes:02d}:{x.components.seconds:02d}'\n",
    "              if not pd.isnull(x) else ''\n",
    ")\n",
    "\n",
    "df['Anzahl Aufgaben pro Klasse'] = df['Klassen ID']\n",
    "\n",
    "# auskommentierte Zeile funktioniert nur mit der MariaDB\n",
    "# quiz['Anzahl Aufgaben pro Klasse'] = quiz.groupby(['course'])['id'].transform('count')\n",
    "quiz = pd.read_csv('quiz.csv')\n",
    "quiz['Anzahl Aufgaben pro Klasse'] = quiz.groupby(['course'])['id'].transform('count')\n",
    "\n",
    "aufgaben_dict = dict(zip(quiz['course'], quiz['Anzahl Aufgaben pro Klasse']))\n",
    "aufgaben_dict[5] = 0\n",
    "df['Anzahl Aufgaben pro Klasse'] = df['Anzahl Aufgaben pro Klasse'].map(aufgaben_dict).fillna(df['Anzahl Aufgaben pro Klasse'])\n",
    "\n",
    "df['Anzahl erledigter Aufgaben'] = df['Name']\n",
    "df_temp = df[['Name', 'Quiz ID']]\n",
    "df_temp = df_temp[df_temp['Quiz ID'] != 0]\n",
    "df_temp = df_temp[df_temp['Name'] != 'Alina Neue']\n",
    "df_temp = df_temp.drop_duplicates()\n",
    "df_temp['Anzahl erledigter Aufgaben'] = df_temp.groupby(['Name']).transform('count')\n",
    "aufgaben_dict = dict(zip(df_temp['Name'], df_temp['Anzahl erledigter Aufgaben']))\n",
    "df['Anzahl erledigter Aufgaben'] = df['Anzahl erledigter Aufgaben'].map(aufgaben_dict).fillna(df['Anzahl erledigter Aufgaben'])\n",
    "df['Anzahl erledigter Aufgaben'] = pd.to_numeric(df['Anzahl erledigter Aufgaben'], errors = 'coerce')\n",
    "df['Anzahl erledigter Aufgaben'] = df['Anzahl erledigter Aufgaben'].fillna(0)\n",
    "\n",
    "df['Lernfortschritt'] = df['Anzahl erledigter Aufgaben']/df['Anzahl Aufgaben pro Klasse']*100\n",
    "df['Lernfortschritt'] = df['Lernfortschritt'].fillna(0).apply(float)\n",
    "\n",
    "df['Anzahl Versuche'] = df.groupby(['Aufgabe', 'Name', 'Fach'])['Anzahl Versuche'].transform('max')\n",
    "\n",
    "df['Einwilligung abgegeben'] = df['Einwilligung abgegeben'].replace(np.nan, 'Nein')\n",
    "\n",
    "df['Quiz Abgabedatum'] = df['Quiz Abgabezeit'].dt.date\n",
    "\n",
    "df['Durchschnitt Punktzahl Aufgabe'] = df.groupby(['Aufgabe'])['Punktzahl'].transform('mean')\n",
    "df['Durchschnitt Punktzahl Schüler*in'] = df.groupby(['Aufgabe', 'Name'])['Punktzahl'].transform('mean')\n",
    "\n",
    "df['Durchschnitt Bearbeitungsdauer Aufgabe'] = df.groupby(['Aufgabe'])['Quiz Bearbeitungsdauer'].transform('mean')\n",
    "df['Durchschnitt Bearbeitungsdauer Aufgabe'] = df['Durchschnitt Bearbeitungsdauer Aufgabe'].apply(\n",
    "    lambda x: f'{x.components.hours:02d}:{x.components.minutes:02d}:{x.components.seconds:02d}'\n",
    "              if not pd.isnull(x) else ''\n",
    ")\n",
    "\n",
    "df['Durchschnitt Bearbeitungsdauer Schüler*in'] = df.groupby(['Aufgabe', 'Name'])['Quiz Bearbeitungsdauer'].transform('mean')\n",
    "df['Durchschnitt Bearbeitungsdauer Schüler*in'] = df['Durchschnitt Bearbeitungsdauer Schüler*in'].apply(\n",
    "    lambda x: f'{x.components.hours:02d}:{x.components.minutes:02d}:{x.components.seconds:02d}'\n",
    "              if not pd.isnull(x) else ''\n",
    ")\n",
    "\n",
    "df['Durchschnitt Fehlversuche Aufgabe'] = df.groupby(['Aufgabe'])['Anzahl Versuche'].transform('mean')\n",
    "df['Durchschnitt Fehlversuche Schüler*in'] = df.groupby(['Aufgabe', 'Name'])['Anzahl Versuche'].transform('mean')\n",
    "\n",
    "df['Punktzahl im Vergleich in %'] = (df['Durchschnitt Punktzahl Schüler*in']/df['Durchschnitt Punktzahl Aufgabe'])*100\n",
    "df['Fehlversuche im Vergleich in %'] = (df['Durchschnitt Fehlversuche Schüler*in']/df['Durchschnitt Fehlversuche Aufgabe'])*100"
   ]
  },
  {
   "cell_type": "markdown",
   "id": "f04afdf5",
   "metadata": {},
   "source": [
    "# Funktionen für Tabellen"
   ]
  },
  {
   "cell_type": "markdown",
   "id": "4c9437dc",
   "metadata": {},
   "source": [
    "<div class=\"alert alert-block alert-info\">\n",
    "<b>Aufgaben: Anzahl der Punktzahlen</b>\n",
    "</div>"
   ]
  },
  {
   "cell_type": "code",
   "execution_count": null,
   "id": "91e84807",
   "metadata": {
    "scrolled": true
   },
   "outputs": [],
   "source": [
    "count_int = df.interactive()\n",
    "\n",
    "count_pipeline = (\n",
    "    count_int[\n",
    "        ((count_int['Fach'] == subject_button) | (count_int['Alle Fächer'] == subject_button)) &\n",
    "        ((count_int['Quiz Abgabezeit'] >= start_date_picker) & (count_int['Quiz Abgabezeit'] <= end_date_picker)) &\n",
    "        ((count_int['Aufgabe'] == exercise_button) | (count_int['Allgemein'] == exercise_button)) &\n",
    "        ((count_int['Klasse'] == class_selection) | (count_int['Name'] == student_selection))\n",
    "    ]\n",
    "    .groupby(['Punktzahl'])['Anzahl'].count()\n",
    "    .to_frame()\n",
    "    .reset_index()\n",
    "    .reset_index(drop=True)\n",
    ")"
   ]
  },
  {
   "cell_type": "code",
   "execution_count": null,
   "id": "62cb715e",
   "metadata": {},
   "outputs": [],
   "source": [
    "count_plot = count_pipeline.hvplot.scatter(x='Punktzahl', y='Anzahl', title='Anzahl der Punktzahl', xlabel = 'Punktzahl', ylabel = 'Anzahl Schüler*innen').output()"
   ]
  },
  {
   "cell_type": "markdown",
   "id": "815e83d3",
   "metadata": {},
   "source": [
    "<div class=\"alert alert-block alert-info\">\n",
    "<b>Aufgaben: Durchschnitte der Aufgaben</b>\n",
    "</div>"
   ]
  },
  {
   "cell_type": "code",
   "execution_count": null,
   "id": "c9fdb4f1",
   "metadata": {},
   "outputs": [],
   "source": [
    "mean_int = df.interactive()\n",
    "\n",
    "mean_pipeline = (\n",
    "    mean_int[\n",
    "        ((mean_int['Fach'] == subject_button) | (mean_int['Alle Fächer'] == subject_button)) &\n",
    "        ((mean_int['Quiz Startzeit'] >= start_date_picker) & (mean_int['Quiz Abgabezeit'] <= end_date_picker)) &\n",
    "        ((mean_int['Aufgabe'] == exercise_button) | (mean_int['Allgemein'] == exercise_button)) &\n",
    "        ((mean_int['Klasse'] == class_selection) | (mean_int['Name'] == student_selection))\n",
    "    ]\n",
    "    .groupby(['Aufgabe', 'Durchschnitt Fehlversuche Aufgabe', 'Durchschnitt Bearbeitungsdauer Aufgabe'])['Durchschnitt Punktzahl Aufgabe'].mean()\n",
    "    .to_frame()\n",
    "    .reset_index()\n",
    ")\n",
    "\n",
    "mean_table = mean_pipeline.pipe(pn.widgets.Tabulator, pagination = 'remote', page_size = 10, theme = 'fast', hidden_columns = ['index']).output()"
   ]
  },
  {
   "cell_type": "markdown",
   "id": "5315109d",
   "metadata": {},
   "source": [
    "<div class=\"alert alert-block alert-info\">\n",
    "<b>Aufgaben: Durchschnitt vs Median Punktzahl</b>\n",
    "</div>"
   ]
  },
  {
   "cell_type": "code",
   "execution_count": null,
   "id": "7534cbe4",
   "metadata": {},
   "outputs": [],
   "source": [
    "median_int = df.interactive()\n",
    "\n",
    "median_pipeline = (\n",
    "    median_int[\n",
    "        ((median_int['Fach'] == subject_button) | (median_int['Alle Fächer'] == subject_button)) &\n",
    "        ((median_int['Quiz Startzeit'] >= start_date_picker) & (median_int['Quiz Abgabezeit'] <= end_date_picker)) &\n",
    "        ((median_int['Aufgabe'] == exercise_button) | (median_int['Allgemein'] == exercise_button)) &\n",
    "        ((median_int['Klasse'] == class_selection) | (median_int['Name'] == student_selection))\n",
    "    ]\n",
    "    .groupby(['Aufgabe', 'Durchschnitt Punktzahl Aufgabe'])['Median Punktzahl'].median()\n",
    "    .to_frame()\n",
    "    .reset_index()\n",
    ")\n",
    "\n",
    "median_punktzahl_plot = median_pipeline.hvplot.bar(x='Aufgabe', title='Durchschnitt und Median der Punktzahl', xlabel = 'Aufgabe', ylabel = 'Punktzahl', rot=45).output()\n",
    "median_punktzahl_plot = median_punktzahl_plot.opts(multi_level=False)"
   ]
  },
  {
   "cell_type": "markdown",
   "id": "e6245ea2",
   "metadata": {},
   "source": [
    "<div class=\"alert alert-block alert-info\">\n",
    "<b>Schüler*in: Durchschnitt</b>\n",
    "</div>"
   ]
  },
  {
   "cell_type": "code",
   "execution_count": null,
   "id": "a16a82f8",
   "metadata": {},
   "outputs": [],
   "source": [
    "student_int = df.interactive()\n",
    "\n",
    "student_pipeline = (\n",
    "    student_int[\n",
    "        ((student_int['Fach'] == subject_button) | (student_int['Alle Fächer'] == subject_button)) &\n",
    "        ((student_int['Quiz Startzeit'] >= start_date_picker) & (student_int['Quiz Abgabezeit'] <= end_date_picker)) &\n",
    "        ((student_int['Aufgabe'] == exercise_button) | (student_int['Allgemein'] == exercise_button)) &\n",
    "        ((student_int['Klasse'] == class_selection) | (student_int['Name'] == student_selection))\n",
    "    ]\n",
    "    .reset_index()\n",
    ")\n",
    "\n",
    "student_table = student_pipeline[['Name', 'Aufgabe', 'Durchschnitt Punktzahl Schüler*in', 'Punktzahl im Vergleich in %', 'Durchschnitt Fehlversuche Schüler*in', 'Fehlversuche im Vergleich in %', 'Durchschnitt Bearbeitungsdauer Schüler*in']].drop_duplicates().pipe(pn.widgets.Tabulator, pagination = 'remote', page_size = 10, theme = 'fast', hidden_columns = ['index']).output()"
   ]
  },
  {
   "cell_type": "markdown",
   "id": "ad96e847",
   "metadata": {},
   "source": [
    "<div class=\"alert alert-block alert-info\">\n",
    "<b>Lernfortschritt</b>\n",
    "</div>"
   ]
  },
  {
   "cell_type": "code",
   "execution_count": null,
   "id": "d7c89d73",
   "metadata": {},
   "outputs": [],
   "source": [
    "count_exercise_int = df.interactive()\n",
    "\n",
    "count_exercise_pipeline = (\n",
    "    count_exercise_int[\n",
    "        ((count_exercise_int['Fach'] == subject_button) | (count_exercise_int['Alle Fächer'] == subject_button)) &\n",
    "        ((count_exercise_int['Quiz Startzeit'] >= start_date_picker) & (count_exercise_int['Quiz Abgabezeit'] <= end_date_picker)) &\n",
    "        ((count_exercise_int['Aufgabe'] == exercise_button) | (count_exercise_int['Allgemein'] == exercise_button)) &\n",
    "        ((count_exercise_int['Klasse'] == class_selection) | (count_exercise_int['Name'] == student_selection))        \n",
    "    ]\n",
    "    .groupby(['Name', 'Anzahl erledigter Aufgaben'])['Lernfortschritt'].mean()\n",
    "    .to_frame()\n",
    "    .reset_index()\n",
    ")\n",
    "\n",
    "count_exercise_table = count_exercise_pipeline.pipe(pn.widgets.Tabulator, pagination = 'remote', page_size = 10, theme = 'fast', hidden_columns = ['index']).output()"
   ]
  },
  {
   "cell_type": "markdown",
   "id": "df3d6a45",
   "metadata": {},
   "source": [
    "<div class=\"alert alert-block alert-info\">\n",
    "<b>Leistung über Zeit</b>\n",
    "</div>"
   ]
  },
  {
   "cell_type": "code",
   "execution_count": null,
   "id": "67e5a3ea",
   "metadata": {},
   "outputs": [],
   "source": [
    "time_scores_int = df.interactive()\n",
    "\n",
    "time_scores_pipeline = (\n",
    "    time_scores_int[\n",
    "        ((time_scores_int['Fach'] == subject_button) | (time_scores_int['Alle Fächer'] == subject_button)) &\n",
    "        ((time_scores_int['Quiz Startzeit'] >= start_date_picker) & (time_scores_int['Quiz Abgabezeit'] <= end_date_picker)) &\n",
    "        ((time_scores_int['Aufgabe'] == exercise_button) | (time_scores_int['Allgemein'] == exercise_button)) &\n",
    "        ((time_scores_int['Klasse'] == class_selection) | (time_scores_int['Name'] == student_selection))        \n",
    "    ]\n",
    "    .pivot_table(index = 'Name', columns = 'Quiz Abgabedatum', values = 'Punktzahl', aggfunc = 'mean', fill_value = np.nan) \n",
    ")\n",
    "\n",
    "time_scores_table = time_scores_pipeline.pipe(pn.widgets.Tabulator, pagination = 'remote', page_size = 10, theme = 'fast', hidden_columns = ['index']).output()"
   ]
  },
  {
   "cell_type": "markdown",
   "id": "c5888084",
   "metadata": {},
   "source": [
    "<div class=\"alert alert-block alert-info\">\n",
    "<b>Schüler*innen, welche noch keine Einvverständniserklärung abgegeben haben</b>\n",
    "</div>\n",
    "\n",
    "<div class=\"alert alert-block alert-warning\">\n",
    "<b>Zeigt bei Auswahl einzelner Schüler*innen nichts an.</b>\n",
    "</div>"
   ]
  },
  {
   "cell_type": "code",
   "execution_count": null,
   "id": "973b15a9",
   "metadata": {},
   "outputs": [],
   "source": [
    "no_consent_int = df.interactive()\n",
    "\n",
    "no_consent_pipeline = (\n",
    "    no_consent_int[\n",
    "        ((no_consent_int['Fach'] == subject_button) | (no_consent_int['Alle Fächer'] == subject_button)) &\n",
    "        ((no_consent_int['Quiz Startzeit'] >= start_date_picker) & (no_consent_int['Quiz Abgabezeit'] <= end_date_picker)) &\n",
    "        ((no_consent_int['Aufgabe'] == exercise_button) | (no_consent_int['Allgemein'] == exercise_button)) &\n",
    "        ((no_consent_int['Klasse'] == class_selection) | (no_consent_int['Name'] == student_selection)) &\n",
    "        ((no_consent_int['Einwilligung abgegeben'] == 'Nein'))\n",
    "    ]\n",
    ")\n",
    "\n",
    "no_consent_table = no_consent_pipeline[['Name', 'Einwilligung abgegeben']].drop_duplicates().pipe(pn.widgets.Tabulator, pagination = 'remote', page_size = 10, theme = 'fast', hidden_columns = ['index']).output()"
   ]
  },
  {
   "cell_type": "markdown",
   "id": "88429325",
   "metadata": {},
   "source": [
    "# Create Teacher Dashboard"
   ]
  },
  {
   "cell_type": "code",
   "execution_count": null,
   "id": "9f6b0172",
   "metadata": {},
   "outputs": [],
   "source": [
    "#Layout using Template\n",
    "template = pn.template.FastListTemplate(\n",
    "    title='Learning Analytics Dashboard', \n",
    "    sidebar=[pn.pane.Markdown(\"# Auswahl\"),  \n",
    "             class_selection,\n",
    "             student_selection,\n",
    "             exercise_button],\n",
    "    main=[pn.Row(pn.Column(subject_button),\n",
    "                 pn.Column(start_date_picker, height = 100), \n",
    "                 pn.Column(end_date_picker)),\n",
    "          pn.Row(pn.Column(median_punktzahl_plot), \n",
    "                    pn.Column(time_scores_table, width = 1000), height = 250),\n",
    "          pn.Row(pn.Column(count_exercise_table), \n",
    "                    pn.Column(mean_table), \n",
    "                 pn.Column(no_consent_table), height = 250),\n",
    "          pn.Row(pn.Column(student_table), height = 250),\n",
    "\n",
    "     ],\n",
    "    accent = '#88d8b0'\n",
    ")\n",
    "\n",
    "template.show()\n",
    "\n",
    "#template.servable();\n",
    "#command: panel serve --port 53369 learning_analytics_dashboard.ipynb in terminal then click on link"
   ]
  }
 ],
 "metadata": {
  "kernelspec": {
   "display_name": "Python 3 (ipykernel)",
   "language": "python",
   "name": "python3"
  },
  "language_info": {
   "codemirror_mode": {
    "name": "ipython",
    "version": 3
   },
   "file_extension": ".py",
   "mimetype": "text/x-python",
   "name": "python",
   "nbconvert_exporter": "python",
   "pygments_lexer": "ipython3",
   "version": "3.9.18"
  }
 },
 "nbformat": 4,
 "nbformat_minor": 5
}
