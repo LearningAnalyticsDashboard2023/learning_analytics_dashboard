{
 "cells": [
  {
   "cell_type": "markdown",
   "id": "b60161f3",
   "metadata": {},
   "source": [
    "# Datensatz mit generierten Daten erstellen"
   ]
  },
  {
   "cell_type": "code",
   "execution_count": null,
   "id": "21057b84",
   "metadata": {},
   "outputs": [],
   "source": [
    "#import necessary libraries\n",
    "import pandas as pd\n",
    "import numpy as np\n",
    "import panel as pn\n",
    "import hvplot.xarray\n",
    "import hvplot.pandas\n",
    "import datetime as dt\n",
    "from datetime import datetime\n",
    "import matplotlib.pyplot as plt\n",
    "import seaborn as sns\n",
    "from itertools import cycle\n",
    "import mysql.connector\n",
    "\n",
    "pn.extension('tabulator')\n",
    "pn.extension()\n",
    "from sqlalchemy import create_engine"
   ]
  },
  {
   "cell_type": "code",
   "execution_count": null,
   "id": "22b92fc2",
   "metadata": {},
   "outputs": [],
   "source": [
    "#read dataset\n",
    "data = pd.read_csv('example_data_set.csv')\n",
    "\n",
    "#make data interactive\n",
    "data_int = data.interactive()"
   ]
  },
  {
   "cell_type": "code",
   "execution_count": null,
   "id": "0400aeb4",
   "metadata": {},
   "outputs": [],
   "source": [
    "# add subject column\n",
    "subject_list = cycle(['Deutsch', 'Englisch', 'Mathematik', 'Biologie', 'Musik', 'Kunst', 'Sport'])    \n",
    "data['subject'] = [next(subject_list) for subject in range(len(data))]\n",
    "\n",
    "# add class column\n",
    "class_list = cycle(['Klasse 1a', 'Klasse 1d', 'Klasse 3b', 'Klasse 4c', 'Klasse 5a'])\n",
    "data['class'] = [next(class_list) for klasse in range(len(data))]\n",
    "\n",
    "# add exercise column\n",
    "exercise_list = cycle(['Aufgabe 1', 'Aufgabe 2', 'Aufgabe 3', 'Aufgabe 4', 'Aufgabe 5', 'Aufgabe 6'])\n",
    "data['exercise'] = [next(exercise_list) for exercise in range(len(data))]\n",
    "\n",
    "# add 'Allgemein' column\n",
    "data['Allgemein'] = 'Allgemein'\n",
    "\n",
    "# add datetime column and convert to datetime object\n",
    "data['datetime'] = data['date'].astype(str) + ' ' + data['time']\n",
    "data['datetime'] = data['datetime'].str.replace(',', '')\n",
    "#data['datetime'] = pd.to_datetime(data['datetime'], '%b %d %Y %H:%M:%S')\n",
    "data['datetime'] = pd.to_datetime(data['datetime'])\n",
    "\n",
    "data['Alle Fächer'] = 'Alle Fächer'"
   ]
  },
  {
   "cell_type": "code",
   "execution_count": null,
   "id": "bc495692",
   "metadata": {},
   "outputs": [],
   "source": [
    "# all the lists\n",
    "subject_list = data['subject'].unique().tolist()\n",
    "class_list = data['class'].unique().tolist()\n",
    "exercise_list = data['exercise'].unique().tolist()\n",
    "\n",
    "#name_list = data['name'].values.tolist()\n",
    "name_list = data['name'].unique().tolist()\n",
    "name_list.sort()\n",
    "\n",
    "default_exercise = ['Allgemein']\n",
    "class_list_with_none = ['Keine Auswahl'] + class_list\n",
    "name_list_with_none = ['Keine Auswahl'] + name_list"
   ]
  },
  {
   "cell_type": "code",
   "execution_count": null,
   "id": "ac6e5e3b",
   "metadata": {},
   "outputs": [],
   "source": [
    "data = data.rename(columns = {'name': 'Name',\n",
    "                              'duration': 'Bearbeitungsdauer',\n",
    "                              'number of tries': 'Anzahl Versuche',\n",
    "                              'subject': 'Fach',\n",
    "                              'exercise': 'Aufgabe',\n",
    "                              'class': 'Klasse',\n",
    "                              'score': 'Punktzahl',\n",
    "                              'datetime': 'Startzeit'\n",
    "                             })"
   ]
  },
  {
   "cell_type": "code",
   "execution_count": null,
   "id": "2e33b2df",
   "metadata": {},
   "outputs": [],
   "source": [
    "data = data.replace(26, np.nan)"
   ]
  },
  {
   "cell_type": "code",
   "execution_count": null,
   "id": "4a6234ea",
   "metadata": {},
   "outputs": [],
   "source": [
    "data['Alle Fächer'] = 'Alle Fächer'\n",
    "data['Klasse'] = data['Klasse'].apply({'Klasse 1d': 'Klasse 1a', 'Klasse 4c': 'Klasse 3b', 'Klasse 5a': 'Klasse 8.2', 'Klasse 1a': 'Klasse 1a', 'Klasse 3b': 'Klasse 3b'}.get)\n",
    "data = data.drop(columns = ['date', 'time', 'passed'])\n",
    "data = data.rename(columns = {'Bearbeitungsdauer': 'Quiz Bearbeitungsdauer', 'Startzeit': 'Quiz Startzeit'})\n",
    "\n",
    "# https://stackoverflow.com/questions/53543061/convert-string-to-timedelta-in-pandas\n",
    "temp = data['Quiz Bearbeitungsdauer'].str.split(':', expand = True).astype(int)\n",
    "new_column = pd.to_timedelta(temp[0], unit = 'h') + pd.to_timedelta(temp[1], unit = 'm') + pd.to_timedelta(temp[2], unit = 's')\n",
    "data['Quiz Bearbeitungsdauer'] = new_column\n",
    "data['Quiz Abgabezeit'] = data['Quiz Startzeit'] + data['Quiz Bearbeitungsdauer']\n",
    "\n",
    "data['Maximale Punktzahl'] = 100\n",
    "data['Maximale Note in %'] = 100\n",
    "data['Beste Punktzahl in %'] = data['Punktzahl']"
   ]
  },
  {
   "cell_type": "code",
   "execution_count": null,
   "id": "618e0e97",
   "metadata": {
    "scrolled": true
   },
   "outputs": [],
   "source": [
    "for e in exercise_list:\n",
    "    for s in subject_list:\n",
    "        data.loc[((data['Fach'] == str(s)) & (data['Aufgabe'] == str(e)), 'Aufgabe')] = str(s) + ' ' + str(e)"
   ]
  },
  {
   "cell_type": "code",
   "execution_count": null,
   "id": "ad11696d",
   "metadata": {},
   "outputs": [],
   "source": [
    "data.to_csv('extension_for_moodle_data.csv')"
   ]
  }
 ],
 "metadata": {
  "kernelspec": {
   "display_name": "Python 3 (ipykernel)",
   "language": "python",
   "name": "python3"
  },
  "language_info": {
   "codemirror_mode": {
    "name": "ipython",
    "version": 3
   },
   "file_extension": ".py",
   "mimetype": "text/x-python",
   "name": "python",
   "nbconvert_exporter": "python",
   "pygments_lexer": "ipython3",
   "version": "3.9.18"
  }
 },
 "nbformat": 4,
 "nbformat_minor": 5
}
